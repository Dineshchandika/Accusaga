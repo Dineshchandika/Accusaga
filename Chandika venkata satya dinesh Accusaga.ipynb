{
 "cells": [
  {
   "cell_type": "code",
   "execution_count": null,
   "id": "21bd5ee4",
   "metadata": {},
   "outputs": [],
   "source": [
    "import pandas as pd\n",
    "import numpy as np\n",
    "import matplotlib.pyplot as plt\n",
    "from sklearn import model_selection\n",
    "from sklearn.metrics import classification_report\n",
    "from sklearn.metrics import confusion_matrix\n",
    "from sklearn.metrics import accuracy_score\n",
    "from sklearn.linear_model import LogisticRegression\n",
    "from sklearn.tree import DecisionTreeClassifier\n",
    "from sklearn.neighbors import KNeighborsClassifier\n",
    "from sklearn.model_selection import KFold\n",
    "import seaborn as sns"
   ]
  },
  {
   "cell_type": "code",
   "execution_count": null,
   "id": "ec9663fc",
   "metadata": {},
   "outputs": [],
   "source": [
    "data=pd.read_csv(\"C:\\\\Users\\\\DELL\\\\Downloads\\\\Accusaga_DS_Assignment\\\\DS_dataset.csv\")"
   ]
  },
  {
   "cell_type": "code",
   "execution_count": null,
   "id": "a100f371",
   "metadata": {},
   "outputs": [],
   "source": [
    "data.head()"
   ]
  },
  {
   "cell_type": "code",
   "execution_count": null,
   "id": "cb66966b",
   "metadata": {},
   "outputs": [],
   "source": [
    "data.info()"
   ]
  },
  {
   "cell_type": "code",
   "execution_count": null,
   "id": "63dddaa0",
   "metadata": {},
   "outputs": [],
   "source": [
    "data.isnull().sum()"
   ]
  },
  {
   "cell_type": "code",
   "execution_count": null,
   "id": "dd0d2ea9",
   "metadata": {},
   "outputs": [],
   "source": [
    "data.describe()"
   ]
  },
  {
   "cell_type": "code",
   "execution_count": null,
   "id": "9a0f9615",
   "metadata": {},
   "outputs": [],
   "source": [
    "print(data.groupby('Group').size())\n",
    "print(data.groupby('Category').size())\n",
    "print(data.groupby('Rating').size())"
   ]
  },
  {
   "cell_type": "code",
   "execution_count": null,
   "id": "75411719",
   "metadata": {},
   "outputs": [],
   "source": [
    "data.plot(kind='box', subplots= True, layout=(2,2),sharex=False, sharey=False)\n",
    "plt.show()"
   ]
  },
  {
   "cell_type": "code",
   "execution_count": null,
   "id": "8425b0f8",
   "metadata": {},
   "outputs": [],
   "source": [
    "data.hist()"
   ]
  },
  {
   "cell_type": "code",
   "execution_count": null,
   "id": "631e8a02",
   "metadata": {},
   "outputs": [],
   "source": [
    "sns.pairplot(data)"
   ]
  },
  {
   "cell_type": "code",
   "execution_count": null,
   "id": "a98df41d",
   "metadata": {},
   "outputs": [],
   "source": [
    "from sklearn import preprocessing\n",
    "data['Group']=preprocessing.LabelEncoder().fit_transform(data['Group'])\n",
    "data['Rating']=preprocessing.LabelEncoder().fit_transform(data['Rating'])\n",
    "data['Category']=preprocessing.LabelEncoder().fit_transform(data['Category'])"
   ]
  },
  {
   "cell_type": "code",
   "execution_count": null,
   "id": "26f004cc",
   "metadata": {},
   "outputs": [],
   "source": [
    "sns.pairplot(data)"
   ]
  },
  {
   "cell_type": "code",
   "execution_count": null,
   "id": "07ecb79e",
   "metadata": {},
   "outputs": [],
   "source": [
    "array=data.values"
   ]
  },
  {
   "cell_type": "code",
   "execution_count": null,
   "id": "464b319e",
   "metadata": {},
   "outputs": [],
   "source": [
    "x = data.iloc[:,0:6]"
   ]
  },
  {
   "cell_type": "code",
   "execution_count": null,
   "id": "42ff02f2",
   "metadata": {},
   "outputs": [],
   "source": [
    "x"
   ]
  },
  {
   "cell_type": "code",
   "execution_count": null,
   "id": "9d4f8c18",
   "metadata": {},
   "outputs": [],
   "source": [
    "y=data.iloc[:,6]\n",
    "y"
   ]
  },
  {
   "cell_type": "code",
   "execution_count": null,
   "id": "bcc82140",
   "metadata": {},
   "outputs": [],
   "source": [
    "x_train,y_train,x_test,y_test=model_selection.train_test_split(x,y,test_size=0.2,random_state=10)"
   ]
  },
  {
   "cell_type": "code",
   "execution_count": null,
   "id": "f32368f5",
   "metadata": {},
   "outputs": [],
   "source": [
    "models=[]\n",
    "models.append(('LR',LogisticRegression()))\n",
    "models.append(('CART',DecisionTreeClassifier()))\n",
    "models.append(('KNN',KNeighborsClassifier()))"
   ]
  },
  {
   "cell_type": "code",
   "execution_count": null,
   "id": "bbcfaa20",
   "metadata": {},
   "outputs": [],
   "source": [
    "from sklearn.model_selection import cross_val_score\n",
    "results=[]\n",
    "names=[]\n",
    "for name,model in models:\n",
    "    kfold = model_selection.KFold(n_splits=10,shuffle=True)\n",
    "    CV_results=model_selection.cross_val_score(model,x_train,y_train,cv=kfold, scoring='accuracy')\n",
    "    results.append(cv_results)\n",
    "    names.append(name)\n",
    "    msg=\"%s:%f(%f)\" %(name,cv_results.mean(),cv_results.std())"
   ]
  },
  {
   "cell_type": "code",
   "execution_count": null,
   "id": "a555cc96",
   "metadata": {},
   "outputs": [],
   "source": [
    "x_train.shape"
   ]
  },
  {
   "cell_type": "code",
   "execution_count": null,
   "id": "3e675f79",
   "metadata": {},
   "outputs": [],
   "source": [
    "y_train.shape"
   ]
  },
  {
   "cell_type": "code",
   "execution_count": null,
   "id": "19b30cc6",
   "metadata": {},
   "outputs": [],
   "source": [
    "x_train.isna().sum()"
   ]
  },
  {
   "cell_type": "code",
   "execution_count": null,
   "id": "f6951dd4",
   "metadata": {},
   "outputs": [],
   "source": [
    "y_train.isna().sum()"
   ]
  },
  {
   "cell_type": "code",
   "execution_count": null,
   "id": "53547ae7",
   "metadata": {},
   "outputs": [],
   "source": []
  }
 ],
 "metadata": {
  "kernelspec": {
   "display_name": "Python 3",
   "language": "python",
   "name": "python3"
  },
  "language_info": {
   "codemirror_mode": {
    "name": "ipython",
    "version": 3
   },
   "file_extension": ".py",
   "mimetype": "text/x-python",
   "name": "python",
   "nbconvert_exporter": "python",
   "pygments_lexer": "ipython3",
   "version": "3.8.8"
  }
 },
 "nbformat": 4,
 "nbformat_minor": 5
}
